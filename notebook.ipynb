{
 "cells": [
  {
   "metadata": {},
   "cell_type": "markdown",
   "source": [
    "# This is a sample Jupyter Notebook\n",
    "\n",
    "Below is an example of a code cell. \n",
    "Put your cursor into the cell and press Shift+Enter to execute it and select the next one, or click 'Run Cell' button.\n",
    "\n",
    "Press Double Shift to search everywhere for classes, files, tool windows, actions, and settings.\n",
    "\n",
    "To learn more about Jupyter Notebooks in PyCharm, see [help](https://www.jetbrains.com/help/pycharm/ipython-notebook-support.html).\n",
    "For an overview of PyCharm, go to Help -> Learn IDE features or refer to [our documentation](https://www.jetbrains.com/help/pycharm/getting-started.html)."
   ],
   "id": "8a77807f92f26ee"
  },
  {
   "metadata": {},
   "cell_type": "code",
   "outputs": [],
   "execution_count": null,
   "source": "print(\"Hello World!\")\n",
   "id": "fbc121e30a2defb3"
  },
  {
   "metadata": {
    "ExecuteTime": {
     "end_time": "2025-10-16T12:45:57.128306Z",
     "start_time": "2025-10-16T12:45:54.398260Z"
    }
   },
   "cell_type": "code",
   "source": [
    "import pygame\n",
    "from pygame.locals import *\n",
    "\n",
    "from OpenGL.GL import *\n",
    "from OpenGL.GLU import *\n",
    "\n",
    "verticies = (\n",
    "    (1, -1, -1),\n",
    "    (1, 1, -1),\n",
    "    (-1, 1, -1),\n",
    "    (-1, -1, -1),\n",
    "    (1, -1, 1),\n",
    "    (1, 1, 1),\n",
    "    (-1, -1, 1),\n",
    "    (-1, 1, 1)\n",
    "    )\n",
    "\n",
    "edges = (\n",
    "    (0,1),\n",
    "    (0,3),\n",
    "    (0,4),\n",
    "    (2,1),\n",
    "    (2,3),\n",
    "    (2,7),\n",
    "    (6,3),\n",
    "    (6,4),\n",
    "    (6,7),\n",
    "    (5,1),\n",
    "    (5,4),\n",
    "    (5,7)\n",
    "    )\n",
    "\n",
    "\n",
    "def Cube():\n",
    "    glBegin(GL_LINES)\n",
    "    for edge in edges:\n",
    "        for vertex in edge:\n",
    "            glVertex3fv(verticies[vertex])\n",
    "    glEnd()\n",
    "\n",
    "\n",
    "def main():\n",
    "    pygame.init()\n",
    "    display = (800,600)\n",
    "\n",
    "    (pygame.display\n",
    "     .set_mode(display, DOUBLEBUF|OPENGL))\n",
    "\n",
    "    gluPerspective(45,\n",
    "                   (display[0] / display[1]),\n",
    "                   0.1,\n",
    "                   50.0)\n",
    "\n",
    "    glTranslatef(0.0,\n",
    "                 0.0,\n",
    "                 -10)\n",
    "\n",
    "    while True:\n",
    "        for event in pygame.event.get():\n",
    "            if event.type == pygame.QUIT:\n",
    "                pygame.quit()\n",
    "                quit()\n",
    "\n",
    "        glRotatef(1,\n",
    "                  3,\n",
    "                  1,\n",
    "                  1)\n",
    "        glClear(GL_COLOR_BUFFER_BIT|GL_DEPTH_BUFFER_BIT)\n",
    "        Cube()\n",
    "        pygame.display.flip()\n",
    "        pygame.time.wait(10)\n",
    "\n",
    "if __name__ == \"__main__\":\n",
    "    main()"
   ],
   "id": "90fb77180a8d59e2",
   "outputs": [
    {
     "name": "stderr",
     "output_type": "stream",
     "text": [
      "/home/fabricio/PyCharmMiscProject/.venv/lib/python3.12/site-packages/pygame/pkgdata.py:25: UserWarning: pkg_resources is deprecated as an API. See https://setuptools.pypa.io/en/latest/pkg_resources.html. The pkg_resources package is slated for removal as early as 2025-11-30. Refrain from using this package or pin to Setuptools<81.\n",
      "  from pkg_resources import resource_stream, resource_exists\n"
     ]
    },
    {
     "name": "stdout",
     "output_type": "stream",
     "text": [
      "pygame 2.6.1 (SDL 2.28.4, Python 3.12.3)\n",
      "Hello from the pygame community. https://www.pygame.org/contribute.html\n"
     ]
    },
    {
     "ename": "error",
     "evalue": "video system not initialized",
     "output_type": "error",
     "traceback": [
      "\u001B[31m---------------------------------------------------------------------------\u001B[39m",
      "\u001B[31merror\u001B[39m                                     Traceback (most recent call last)",
      "\u001B[36mCell\u001B[39m\u001B[36m \u001B[39m\u001B[32mIn[1]\u001B[39m\u001B[32m, line 74\u001B[39m\n\u001B[32m     71\u001B[39m         pygame.time.wait(\u001B[32m10\u001B[39m)\n\u001B[32m     73\u001B[39m \u001B[38;5;28;01mif\u001B[39;00m \u001B[34m__name__\u001B[39m == \u001B[33m\"\u001B[39m\u001B[33m__main__\u001B[39m\u001B[33m\"\u001B[39m:\n\u001B[32m---> \u001B[39m\u001B[32m74\u001B[39m     \u001B[43mmain\u001B[49m\u001B[43m(\u001B[49m\u001B[43m)\u001B[49m\n",
      "\u001B[36mCell\u001B[39m\u001B[36m \u001B[39m\u001B[32mIn[1]\u001B[39m\u001B[32m, line 70\u001B[39m, in \u001B[36mmain\u001B[39m\u001B[34m()\u001B[39m\n\u001B[32m     68\u001B[39m glClear(GL_COLOR_BUFFER_BIT|GL_DEPTH_BUFFER_BIT)\n\u001B[32m     69\u001B[39m Cube()\n\u001B[32m---> \u001B[39m\u001B[32m70\u001B[39m \u001B[43mpygame\u001B[49m\u001B[43m.\u001B[49m\u001B[43mdisplay\u001B[49m\u001B[43m.\u001B[49m\u001B[43mflip\u001B[49m\u001B[43m(\u001B[49m\u001B[43m)\u001B[49m\n\u001B[32m     71\u001B[39m pygame.time.wait(\u001B[32m10\u001B[39m)\n",
      "\u001B[31merror\u001B[39m: video system not initialized"
     ]
    }
   ],
   "execution_count": 1
  },
  {
   "metadata": {},
   "cell_type": "code",
   "outputs": [],
   "execution_count": null,
   "source": "",
   "id": "9052b357941eb354"
  }
 ],
 "metadata": {
  "kernelspec": {
   "display_name": "Python 3",
   "language": "python",
   "name": "python3"
  },
  "language_info": {
   "codemirror_mode": {
    "name": "ipython",
    "version": 2
   },
   "file_extension": ".py",
   "mimetype": "text/x-python",
   "name": "python",
   "nbconvert_exporter": "python",
   "pygments_lexer": "ipython2",
   "version": "2.7.6"
  }
 },
 "nbformat": 4,
 "nbformat_minor": 5
}
